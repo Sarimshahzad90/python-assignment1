{
 "cells": [
  {
   "cell_type": "code",
   "execution_count": 4,
   "id": "67ccd730",
   "metadata": {},
   "outputs": [
    {
     "name": "stdout",
     "output_type": "stream",
     "text": [
      "Twinkle Twinkle Little Star,\n",
      "     How I Wonder What you, \n",
      "          Up above the world so high,\n",
      "          like a diamind in the sky\n",
      "Twinkle Twinkle Little Star,\n",
      "     How I Wonder What you, \n"
     ]
    }
   ],
   "source": [
    "print(\"Twinkle Twinkle Little Star,\");\n",
    "print (\" \"*5+\"How I Wonder What you, \");\n",
    "print (\" \"*10+\"Up above the world so high,\")\n",
    "print (\" \"*10+\"like a diamind in the sky\")\n",
    "print(\"Twinkle Twinkle Little Star,\");\n",
    "print (\" \"*5+\"How I Wonder What you, \");"
   ]
  },
  {
   "cell_type": "code",
   "execution_count": 10,
   "id": "9b8eecac",
   "metadata": {},
   "outputs": [
    {
     "name": "stdout",
     "output_type": "stream",
     "text": [
      "Current date and time : \n",
      "2021-12-29 16:03:40\n"
     ]
    }
   ],
   "source": [
    "import datetime\n",
    "now = datetime.datetime.now()\n",
    "print (\"Current date and time : \")\n",
    "print (now.strftime(\"%Y-%m-%d %H:%M:%S\"))"
   ]
  },
  {
   "cell_type": "code",
   "execution_count": 38,
   "id": "62e97427",
   "metadata": {},
   "outputs": [
    {
     "name": "stdout",
     "output_type": "stream",
     "text": [
      "Enter Radius of a Circle 8\n",
      "The Area Of Circle is 201.06192982974676\n"
     ]
    }
   ],
   "source": [
    "import math\n",
    "r= int(input (\"Enter Radius of a Circle \"))\n",
    "\n",
    "a=math.pi*r*r\n",
    "print(\"The Area Of Circle is\",a);"
   ]
  },
  {
   "cell_type": "code",
   "execution_count": 39,
   "id": "f1b32b82",
   "metadata": {},
   "outputs": [
    {
     "name": "stdout",
     "output_type": "stream",
     "text": [
      "dazhahS miraS\n"
     ]
    }
   ],
   "source": [
    "text=\"Sarim Shahzad\"[::-1]\n",
    "print(text)"
   ]
  },
  {
   "cell_type": "code",
   "execution_count": 41,
   "id": "1127bb69",
   "metadata": {},
   "outputs": [
    {
     "name": "stdout",
     "output_type": "stream",
     "text": [
      "ENTER NUMBER1= 5\n",
      "ENTER NUMBER2= 6\n",
      "11\n"
     ]
    }
   ],
   "source": [
    "num1=int (input(\"ENTER NUMBER1= \"))\n",
    "num2=int (input(\"ENTER NUMBER2= \"))\n",
    "ADD= num1+num2\n",
    "print(ADD)"
   ]
  },
  {
   "cell_type": "code",
   "execution_count": 14,
   "id": "dc7a19d6",
   "metadata": {},
   "outputs": [
    {
     "name": "stdout",
     "output_type": "stream",
     "text": [
      "3.9.7\n"
     ]
    }
   ],
   "source": [
    "from platform import python_version\n",
    "\n",
    "print(python_version())"
   ]
  },
  {
   "cell_type": "code",
   "execution_count": null,
   "id": "d59a702c",
   "metadata": {},
   "outputs": [],
   "source": []
  }
 ],
 "metadata": {
  "kernelspec": {
   "display_name": "Python 3 (ipykernel)",
   "language": "python",
   "name": "python3"
  },
  "language_info": {
   "codemirror_mode": {
    "name": "ipython",
    "version": 3
   },
   "file_extension": ".py",
   "mimetype": "text/x-python",
   "name": "python",
   "nbconvert_exporter": "python",
   "pygments_lexer": "ipython3",
   "version": "3.9.7"
  }
 },
 "nbformat": 4,
 "nbformat_minor": 5
}
